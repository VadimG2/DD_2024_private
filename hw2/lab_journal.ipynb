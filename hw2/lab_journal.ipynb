{
 "cells": [
  {
   "cell_type": "code",
   "execution_count": null,
   "id": "74c776de-e0fd-49a3-92d3-095560c8f324",
   "metadata": {},
   "outputs": [],
   "source": [
    "### Шаг 1: Контроль качества ридов с помощью FastQC\n",
    "\n",
    "# В этом шаге было создано conda-окружение `fastq`, установлен инструмент FastQC и выполнен контроль качества на всех 6 файлах данных. \n",
    "# Отчеты были сохранены в папке `hw2/fastqc`."
   ]
  },
  {
   "cell_type": "code",
   "execution_count": null,
   "id": "43249aef-6c92-481c-bfde-e53b3790f200",
   "metadata": {},
   "outputs": [],
   "source": [
    "# Создаем conda окружение для FastQC\n",
    "conda create --name fastq python=3.9\n",
    "Версия ПО: Python 3.9 (используется в окружении)\n",
    "Успешная команда: conda create --name fastq python=3.9\n",
    "Результат: Окружение fastq создано для установки FastQC."
   ]
  },
  {
   "cell_type": "code",
   "execution_count": null,
   "id": "61f80c5f-dd98-4a54-b128-4178eea0671d",
   "metadata": {},
   "outputs": [],
   "source": [
    "# Устанавливаем FastQC в окружении fastq\n",
    "conda activate fastq\n",
    "conda install -c bioconda fastqc\n",
    "Версия ПО: FastQC 0.11.9 (или актуальная версия, установленная через Bioconda)\n",
    "Успешные команды: conda activate fastq, conda install -c bioconda fastqc\n",
    "Результат: Успешная установка FastQC для выполнения анализа качества ридов."
   ]
  },
  {
   "cell_type": "code",
   "execution_count": null,
   "id": "24a870a0-06b9-4a8c-82de-0d71a859fcc1",
   "metadata": {},
   "outputs": [],
   "source": [
    "# Запускаем FastQC на всех 6 файлах\n",
    "fastqc /mnt/d/Games/notOrca/git/datadriven/FASTQ/SRR292678sub_S1_L001_R1_001.fastq.gz \n",
    "        /mnt/d/Games/notOrca/git/datadriven/FASTQ/SRR292678sub_S1_L001_R2_001.fastq.gz \n",
    "        /mnt/d/Games/notOrca/git/datadriven/FASTQ/SRR292770_S1_L001_R1_001.fastq.gz \n",
    "        /mnt/d/Games/notOrca/git/datadriven/FASTQ/SRR292770_S1_L001_R2_001.fastq.gz \n",
    "        /mnt/d/Games/notOrca/git/datadriven/FASTQ/SRR292862_S2_L001_R1_001.fastq.gz \n",
    "        /mnt/d/Games/notOrca/git/datadriven/FASTQ/SRR292862_S2_L001_R2_001.fastq.gz\n",
    "Версия ПО: FastQC 0.11.9\n",
    "Успешные команды: Запуск команды fastqc на всех шести файлах\n",
    "Результат: Созданы отчеты в формате HTML с результатами анализа качества ридов, сохранены в директории /mnt/d/Games/notOrca/git/datadriven/DD_2024_private/hw2/fastqc"
   ]
  },
  {
   "cell_type": "code",
   "execution_count": null,
   "id": "4fefd062-b324-49a7-bd1b-fbaa7625ce6b",
   "metadata": {},
   "outputs": [],
   "source": [
    "# Перемещаем сгенерированные отчеты в папку fastqc\n",
    "mv *.html /mnt/d/Games/notOrca/git/datadriven/DD_2024_private/hw2/fastqc/\n",
    "Версия ПО: Утилиты командной строки (mv) Linux/Windows\n",
    "Успешные команды: mv *.html /mnt/d/Games/notOrca/git/datadriven/DD_2024_private/hw2/fastqc/\n",
    "Результат: Все HTML-отчеты FastQC перемещены в папку hw2/fastqc."
   ]
  },
  {
   "cell_type": "code",
   "execution_count": null,
   "id": "626ce11d-dcae-4d26-b97b-6ebe0c1699e4",
   "metadata": {},
   "outputs": [],
   "source": [
    "# Создаем conda окружение для SPAdes\n",
    "conda create --name spades python=3.9\n",
    "Версия ПО: Python 3.9 (используется в окружении)\n",
    "Результат: Окружение spades создано для установки SPAdes."
   ]
  },
  {
   "cell_type": "code",
   "execution_count": null,
   "id": "aa3249ee-2efe-4748-8ae1-14e0d9eb4a53",
   "metadata": {},
   "outputs": [],
   "source": [
    "# Активируем окружение spades\n",
    "conda activate spades\n",
    "# Устанавливаем SPAdes в окружении spades\n",
    "conda install -c bioconda spades\n",
    "Версия ПО: SPAdes 3.15.0 (в окружении spades)\n",
    "Версия Python: 3.9.20 (в окружении spades)\n",
    "Результат: Установка SPAdes: Мы устанавливаем SPAdes версии 3.13.1 из канала bioconda. "
   ]
  },
  {
   "cell_type": "code",
   "execution_count": null,
   "id": "ac86e51f-e3cf-4cfd-958c-7d9da1b787a2",
   "metadata": {},
   "outputs": [],
   "source": [
    "# Запускаем SPAdes для сборки генома с использованием парных ридов\n",
    "spades.py -1 /mnt/d/Games/notOrca/git/datadriven/FASTQ/SRR292678sub_S1_L001_R1_001.fastq.gz \\\n",
    "           -2 /mnt/d/Games/notOrca/git/datadriven/FASTQ/SRR292678sub_S1_L001_R2_001.fastq.gz \\\n",
    "           -o /mnt/d/Games/notOrca/git/datadriven/DD_2024_private/hw2/spades\n",
    "Версия ПО: SPAdes 3.15.0 (в окружении spades)\n",
    "Версия Python: 3.9.20 (в окружении spades)\n",
    "Результат: SPAdes успешно приступил к сборке генома с учетом выбранных парных ридов."
   ]
  },
  {
   "cell_type": "code",
   "execution_count": null,
   "id": "44009519-3acd-485b-b92b-e46b1ed9313e",
   "metadata": {},
   "outputs": [],
   "source": [
    "# Создание окружения для QUAST с Python 3.9\n",
    "conda create -n quast python=3.9\n",
    "\n",
    "# Активируем окружение\n",
    "conda activate quast\n",
    "\n",
    "# Установка QUAST через bioconda\n",
    "conda install -c bioconda quast\n",
    "\n",
    "Версия ПО: QUAST v5.2.0 (в окружении quast)\n",
    "Версия Python: 3.9.20 (в окружении quast)\n",
    "Результат: Окружение quast создано для установки QUAST. QUAST установлен."
   ]
  },
  {
   "cell_type": "code",
   "execution_count": null,
   "id": "6ebdafaf-ab13-4a56-b7f5-5c1e9c450575",
   "metadata": {},
   "outputs": [],
   "source": [
    "# Запуск QUAST для файлов contigs.fasta и scaffolds.fasta\n",
    "quast.py contigs.fasta scaffolds.fasta -o hw2/quast\n",
    "\n",
    "Версия ПО: QUAST v5.2.0 (в окружении quast)\n",
    "Версия Python: 3.9.20 (в окружении quast)\n",
    "Результат: Запущен и проведен анализ при помощи QUAST. Отчет сохранен в hw2/quast"
   ]
  },
  {
   "cell_type": "code",
   "execution_count": null,
   "id": "0c2d1620-541c-49a2-a828-5e0686ca6677",
   "metadata": {},
   "outputs": [],
   "source": [
    "### Результаты анализа с помощью QUAST\n",
    "\n",
    "#### Контиги (`contigs.fasta`):\n",
    "- **N50**: 105,346\n",
    "- **Общая длина**: 5,243,751\n",
    "- **Количество контигов**: 205\n",
    "- **GC-контент**: 50.53%\n",
    "- **Самый длинный контиг**: 300,784\n",
    "- **L50**: 15\n",
    "- **L90**: 53\n",
    "- **N's per 100 kbp**: 0.00\n",
    "\n",
    "#### Скаффолды (`scaffolds.fasta`):\n",
    "- **N50**: 105,346\n",
    "- **Общая длина**: 5,316,895\n",
    "- **Количество скаффолдов**: 213\n",
    "- **GC-контент**: 50.51%\n",
    "- **Самый длинный скаффолд**: 300,784\n",
    "- **L50**: 15\n",
    "- **L90**: 53\n",
    "- **N's per 100 kbp**: 32.23\n",
    "\n",
    "### Заключение:\n",
    "- **N50** для контигов и скаффолдов одинаково составляет 105,346, что свидетельствует о схожем качестве сборки.\n",
    "- Общая длина для скаффолдов немного больше, чем для контигов.\n",
    "- Количество контигов и скаффолдов различается, при этом контеги имеют немного меньшее количество.\n",
    "- GC-контент схож для обеих сборок, что подтверждает стабильность качества данных."
   ]
  },
  {
   "cell_type": "code",
   "execution_count": null,
   "id": "26501b26-9e31-4f7e-a5cd-b4a86a6011d6",
   "metadata": {},
   "outputs": [],
   "source": [
    "# Создание окружения для prokka с Python 3.9\n",
    "conda create -n prokka python=3.9\n",
    "\n",
    "# Активируем окружение\n",
    "conda activate prokka\n",
    "\n",
    "# Установка QUAST через bioconda\n",
    "conda install -c bioconda prokka\n",
    "\n",
    "Версия ПО: prokka 1.14.6 (в окружении prokka)\n",
    "Версия Python: 3.9.20 (в окружении prokka)\n",
    "Результат: Окружение prokka создано для установки prokka. prokka установлен."
   ]
  },
  {
   "cell_type": "code",
   "execution_count": null,
   "id": "e8259697-e5ad-490c-92c8-865e34b69282",
   "metadata": {},
   "outputs": [],
   "source": [
    "# Запуск prokka для файла scaffolds.fasta\n",
    "prokka --outdir prokka --prefix scaffolds_annotation spades/scaffolds.fasta\n",
    "\n",
    "Версия ПО: prokka 1.14.6 (в окружении prokka)\n",
    "Версия Python: 3.9.20 (в окружении prokka)\n",
    "Результат: Запущен и проведен анализ при помощи prokka. Отчет сохранен в hw2/prokka"
   ]
  },
  {
   "cell_type": "code",
   "execution_count": null,
   "id": "5d29a99e-f696-4dbc-bae8-029c2dbc3691",
   "metadata": {},
   "outputs": [],
   "source": [
    "### Результаты анализа с помощью QUAST\n",
    "\n",
    "# Статистики\n",
    "organism: Genus species strain \n",
    "contigs: 501\n",
    "bases: 5316895\n",
    "CDS: 4971\n",
    "rRNA: 5\n",
    "repeat_region: 1\n",
    "tRNA: 69\n",
    "tmRNA: 1"
   ]
  },
  {
   "cell_type": "code",
   "execution_count": null,
   "id": "94a13179-18a4-4f15-a231-c43af59ea795",
   "metadata": {},
   "outputs": [],
   "source": []
  }
 ],
 "metadata": {
  "kernelspec": {
   "display_name": "Python 3 (ipykernel)",
   "language": "python",
   "name": "python3"
  },
  "language_info": {
   "codemirror_mode": {
    "name": "ipython",
    "version": 3
   },
   "file_extension": ".py",
   "mimetype": "text/x-python",
   "name": "python",
   "nbconvert_exporter": "python",
   "pygments_lexer": "ipython3",
   "version": "3.10.12"
  }
 },
 "nbformat": 4,
 "nbformat_minor": 5
}
