{
 "cells": [
  {
   "cell_type": "code",
   "execution_count": null,
   "id": "74c776de-e0fd-49a3-92d3-095560c8f324",
   "metadata": {},
   "outputs": [],
   "source": [
    "### Шаг 1: Контроль качества ридов с помощью FastQC\n",
    "\n",
    "# В этом шаге было создано conda-окружение `fastq`, установлен инструмент FastQC и выполнен контроль качества на всех 6 файлах данных. \n",
    "# Отчеты были сохранены в папке `hw2/fastqc`."
   ]
  },
  {
   "cell_type": "code",
   "execution_count": null,
   "id": "43249aef-6c92-481c-bfde-e53b3790f200",
   "metadata": {},
   "outputs": [],
   "source": [
    "# Создаем conda окружение для FastQC\n",
    "!conda create --name fastq python=3.9"
   ]
  },
  {
   "cell_type": "code",
   "execution_count": null,
   "id": "61f80c5f-dd98-4a54-b128-4178eea0671d",
   "metadata": {},
   "outputs": [],
   "source": [
    "# Устанавливаем FastQC в окружении fastq\n",
    "!conda activate fastq\n",
    "!conda install -c bioconda fastqc"
   ]
  },
  {
   "cell_type": "code",
   "execution_count": null,
   "id": "24a870a0-06b9-4a8c-82de-0d71a859fcc1",
   "metadata": {},
   "outputs": [],
   "source": [
    "# Запускаем FastQC на всех 6 файлах\n",
    "!fastqc /mnt/d/Games/notOrca/git/datadriven/FASTQ/SRR292678sub_S1_L001_R1_001.fastq.gz \n",
    "        /mnt/d/Games/notOrca/git/datadriven/FASTQ/SRR292678sub_S1_L001_R2_001.fastq.gz \n",
    "        /mnt/d/Games/notOrca/git/datadriven/FASTQ/SRR292770_S1_L001_R1_001.fastq.gz \n",
    "        /mnt/d/Games/notOrca/git/datadriven/FASTQ/SRR292770_S1_L001_R2_001.fastq.gz \n",
    "        /mnt/d/Games/notOrca/git/datadriven/FASTQ/SRR292862_S2_L001_R1_001.fastq.gz \n",
    "        /mnt/d/Games/notOrca/git/datadriven/FASTQ/SRR292862_S2_L001_R2_001.fastq.gz"
   ]
  },
  {
   "cell_type": "code",
   "execution_count": null,
   "id": "4fefd062-b324-49a7-bd1b-fbaa7625ce6b",
   "metadata": {},
   "outputs": [],
   "source": [
    "# Перемещаем сгенерированные отчеты в папку fastqc\n",
    "!mv *.html /mnt/d/Games/notOrca/git/datadriven/DD_2024_private/hw2/fastqc/"
   ]
  }
 ],
 "metadata": {
  "kernelspec": {
   "display_name": "Python 3 (ipykernel)",
   "language": "python",
   "name": "python3"
  },
  "language_info": {
   "codemirror_mode": {
    "name": "ipython",
    "version": 3
   },
   "file_extension": ".py",
   "mimetype": "text/x-python",
   "name": "python",
   "nbconvert_exporter": "python",
   "pygments_lexer": "ipython3",
   "version": "3.10.12"
  }
 },
 "nbformat": 4,
 "nbformat_minor": 5
}
